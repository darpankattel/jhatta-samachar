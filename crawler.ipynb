{
 "cells": [
  {
   "cell_type": "code",
   "execution_count": 2,
   "metadata": {},
   "outputs": [],
   "source": [
    "from bs4 import BeautifulSoup\n",
    "import requests"
   ]
  },
  {
   "cell_type": "code",
   "execution_count": 3,
   "metadata": {},
   "outputs": [],
   "source": [
    "url = \"https://ekantipur.com/en/feature/2024/09/22/for-56-years-bhairahawa-has-been-identified-as-pawanko-peda-56-40.html\""
   ]
  },
  {
   "cell_type": "code",
   "execution_count": 4,
   "metadata": {},
   "outputs": [],
   "source": [
    "response = requests.get(url)"
   ]
  },
  {
   "cell_type": "code",
   "execution_count": 5,
   "metadata": {},
   "outputs": [],
   "source": [
    "soup = BeautifulSoup(response.content, \"html.parser\")"
   ]
  },
  {
   "cell_type": "markdown",
   "metadata": {},
   "source": [
    "## For Title"
   ]
  },
  {
   "cell_type": "code",
   "execution_count": 6,
   "metadata": {},
   "outputs": [
    {
     "data": {
      "text/plain": [
       "'For 56 years, Bhairahawa has been identified as \"Pawanko Peda\"'"
      ]
     },
     "execution_count": 6,
     "metadata": {},
     "output_type": "execute_result"
    }
   ],
   "source": [
    "title = soup.find(\"h1\").text.strip() if soup.find(\"h1\") else None\n",
    "title"
   ]
  },
  {
   "cell_type": "markdown",
   "metadata": {},
   "source": [
    "## For summary"
   ]
  },
  {
   "cell_type": "code",
   "execution_count": 7,
   "metadata": {},
   "outputs": [
    {
     "data": {
      "text/plain": [
       "'Three months ago, American Ambassador Dean R. Thompson visited Pawan Mishthann Bhandar at Bhairahawa, Rupandehi headquarters. Pawan Halwai, owner of Misthann Bhandar, welcomed Ambassador Thompson. The ambassador said that when he came to visit Bhairahawa, he came to the shop because he heard about the wind farm here. '"
      ]
     },
     "execution_count": 7,
     "metadata": {},
     "output_type": "execute_result"
    }
   ],
   "source": [
    "summary = soup.find(\n",
    "                    'meta', {'name': 'description'}).get('content', None)\n",
    "summary"
   ]
  },
  {
   "cell_type": "code",
   "execution_count": 11,
   "metadata": {},
   "outputs": [],
   "source": [
    "tags = soup.select('div.description.current-news-block p')"
   ]
  },
  {
   "cell_type": "code",
   "execution_count": 14,
   "metadata": {},
   "outputs": [
    {
     "name": "stdout",
     "output_type": "stream",
     "text": [
      "Three months ago, American Ambassador Dean R. Thompson visited Pawan Mishthann Bhandar at Bhairahawa, Rupandehi headquarters. Pawan Halwai, owner of Misthann Bhandar, welcomed Ambassador Thompson. The ambassador said that when he came to visit Bhairahawa, he came to the shop because he heard about the wind farm here. \"He sat here and tasted peda,\" said the owner Halwai, \"he responded that it was very delicious.\" On his way back, he went to the restaurant and bought peda and took Koseli with him.\n",
      "\n",
      "The American ambassador is one of the special people who visited Pawan Misthan Bhandar at Siddharthnagar-5 Maitripath last time. \"Many distinguished people from Rupandehi come to our shop,\" said Pawan, \"and their suggestions, advice and positive feedback are encouraging.\" Located in the heart of the border town of Bhairahawa, the sweet shop has been known as a tea-breakfast gathering place for years. \n",
      " Locals gather at this dessert store every day to eat peda and gossip. Those who come out of Rupandehi and come here for sightseeing also take Peda as Koseli. Hence Pawan's Peda is equally popular as Koseli. Pawan, the owner, claims that the peda produced here has been reaching most of the Nepalese countries in the form of koseli for a decade. \n",
      " In Terai, it is customary to welcome guests with sweets and water. 'Pawanko Peda' has been becoming a synonym for Bhairahawa for a long time. Pawan's father Radheshyam started a sweet shop in Maitripath 56 years ago. Since then, various types of sweets were prepared here. Among the sweets, the peda prepared by Radheshyam was very popular. Later, the sweet store was moved from the chaparo to the new house. Pawan was born two years after opening a sweet shop in the new building. After that, the sweet shop also got the name, 'Pawan Mishthanna Bhandar'. Radheshyam learned to make Peda from his grandmother Karamdani Halwai. 'Nani Karamdani started Peda in Bhairahawa,' Pawan recounts the past, 'They had already run a sweet shop in Bhairahwa.' Pawan says that at that time, father and grandmother used to make sweets by themselves. \"He used to work hard day and night,\" he said, \"Bhairawa's meeting place used to be that sweet shop.\" The Halwai family were zamindars of Panauti village in Basantpur near Bhairahwan. \n",
      " A century ago, after robbers looted their property, they had to endure poverty. At that time, 74-year-old Radheshyam said that the looted property was kept in a cart and taken away. After that, he said, he had to sell land for livelihood. Radheshyam's father Motilal went to Sunauli Bazar in bordering India to start a sweet business. However, his business was not successful there. Karamdani called her grandson Radheshyam Bhairahwa after seeing the suffering of her daughter's children. She taught herself to make sweets. 'I learned to make tea, snacks and sweets from my grandmother,' Radheshyam said, 'After the death of my grandmother Karamdani, I started taking over the entire responsibility of the shop from 2025 at the age of 17.' So milk supply was easy. Pawan said, 'Milk used to arrive early in the morning,' 'Father used to drink milk and prepare food.' Pawan says that since the beginning, his grandmother and father paid attention to purity and passion, so Peda became a 'brand'. Since 20 years, Radheshyam's health has not been favorable. So he is resting at home. The management responsibility of Misthann Bhandar has fallen on the shoulders of the third generation. Pawan has three brothers. \n",
      " In the beginning Radheshyam and Pawan used to work in the shop together as the brothers were young. Pawan said that he has been running the business alone for 15 years after his father fell ill. \"This is what my father taught me, we are making sweets by adopting the traditional standards and purity,\" Pawan said. There is also a restaurant in the building that now houses the dessert store. Breakfast is available throughout the day. Sweets are sold from there. Now the restaurant has been made attractive with new furnishings. 'We are preparing sweets and snacks,' said Pawan, 'We don't have to spend on branding, branding is being done automatically in the country/abroad due to the satisfaction of the customers.' Laddu, kalajam, dood mala are also liked by the customers. Apart from this, Pawan said that a dozen types of sweet dishes are being prepared according to the customer's orders. According to him, 100 kilos of peda are being sold daily. The price of one kilo of peda is one thousand two hundred rupees. Pawan says that now more than two hundred families are getting employment directly/indirectly in the confectionery store. \n",
      " Farmers who bring 5 to 10 liters of milk daily have become self-employed. Apart from that, he has been working continuously in this sweet shop for more than 50 years. \"Apart from the regular salary, we also provide financial support to the employees when they need it,\" Pawan said are still as \n",
      " Worker since 50 years \n",
      " Bindyachal, who has spent 50 years at Pawan Sweets Bhandar, still serves customers with a smile. Worked here since childhood. Therefore, even after crossing 60 years, there is no reduction in the services he provides. Clients who have known him since childhood come looking for him. Bindyachal is a direct witness to the successful history of Pawan Misthann Bhandar. He has been seeing the ups and downs and successes. Bindyachal, who has a simple and honest nature, married from Pawan's earnings. He has 2 sons and 2 daughters. \"I got my daughter married, my eldest son is married too,\" he said, \"life passed here, now I can't go anywhere, nor do I have the courage to do anything new.\" At Pawan Sweets, Pawan's son Pallav is now looking after the business. \n",
      " Bindyachal said he is gathering work experience with the fourth generation of the Halwai family. Bindyachal work starts from 6 am every morning. Confectionery comes directly from the residence. His persistence sometimes annoys the other workers. When he started working, he was a school-going child and now he is about to enter old age. People who used to come for lunch while studying in school are now coming to eat sweets even in their old age. \n",
      " Sweets store's 'small' customer has now reached a great status. According to Bindyachal, the regular customers of Pawan Misthann, whom he has seen from a young age, are former minister Deepak Bohra, former mayor of Siddharthnagar Sagarpratap Rana, former minister Shyamsunder Gupta, former governor Chiranjeevi Nepal, former inspector general of Nepal Police Kuber Rana, former minister Niranjan Thapa. Even now, they visit Bindyachal when they come to Pawan Misthanna. \n",
      " In the year 2058, a branch of Pawan Misthann Bhandar was opened in Butwal. The sweets produced in the factory at Bhairahawa are sold in Butwal. Sweets prepared in the same kitchen and sold from Butwal Halwai Pallava, the fourth generation of the \n",
      " family, said. He is the son of Pawan. \"We have prepared to open outlets in the big cities of the country soon,\" said Pallav, \"but all the outlets will be selling sweets prepared under our own supervision.\" At present, 50 people can sit and eat at the restaurant in Bhairahawa. Mentioning that the main 'outlet' of Bhairahawa has been upgraded this time, Pallav said that there are more people who buy sweets and take them to Koseli instead of sitting and eating in restaurants. \"Wherever there are Nepalis in the world, there are wind farms,\" ​​he said. \n",
      " After completing his schooling in Dehradun, India and higher education in Bangalore, Pallav is now helping his father in the business. According to him, milk and ghee are the main ingredients needed to make sweets. \"We use pure milk and ghee,\" he said, \"so the quality is maintained.\" According to him, milk production decreases in summer. However, milk is sufficient in winter. Misthann Bhandar has prepared a partnership with farmers so that there is no shortage of milk. \"We help the farmers by investing in cattle rearing,\" said Pallav, \"we also buy the milk produced in the said farm.\" He says that this will make the farmers comfortable. \n",
      " Pawan said that the income from the sweet shop helped the family's financial progress. According to him, the journey of the shop which started from Chapro has now reached five star hotel. Among the three brothers, Maila Hemant is a doctor. He is currently the Vice President at Universal Medical College, Bhairahawa. \"With the income from the sweet shop, we were able to train my brother to be a doctor,\" he said, \"we consider it a success.\" Miley's daughter-in-law is also a doctor. Ajay Kumar, the younger brother, decided to travel to hospitality with the income from the sweets shop. He started the 24-room Hotel Pawan International in 2000 at Maitripath. Now there is a hotel in the rear part of the building. In the front part of the building there is a confectionary store. Pawan said that the younger brother's family has now rented a hotel and moved to New Zealand. Pawan himself is running a five-star hotel 'Pawan Palace' in Buddha's birthplace Lumbini. \n",
      " According to Pawan, his mother Kalavati Devi died at the age of 54. Then he thought of building a 'charity' hospital in Bhairahawa with the aim of serving his mother's memory. Obtained permission from the government to operate the hospital. The foundation stone of Gautam Budh International Airport was laid when it reached the stage of construction. The then Prime Minister Sushil Koirala, who came for the foundation stone laying ceremony, suggested Pawan to invest in a hotel as the airport would be flooded with tourists. Soon after, Pawan, who took the aim of building a hospital, said that he had built a five-star hotel. \"Pawan Mishthanan is helping the family in their difficulties,\" he said, \"Peda is farming even when other businesses are slow.\" \n",
      " He said that the family is not the only contributor to establish Pawan Misthann Bhandar. \"There is a great contribution of Nepalis in the homeland/abroad,\" he said, \"that's why Pawan's Peda has become a brand.\" Pawan's son Pallava returned to the country after studying in India. Daughter Kopal has returned after completing 'Architect Course' in UK. \"I have no intention of going abroad,\" Pallav said, \"I have continued the business started by my father.\" He said that while the youth were migrating, the sweet business had provided employment to many in the country. \"Government should bring in multinational companies and create jobs in the country,\" he said, \"Government should promote traditional businesses like ours.\" \n",
      " \n",
      "\n",
      "\n",
      "\n"
     ]
    }
   ],
   "source": [
    "for tag in tags:\n",
    "    print(tag.get_text())"
   ]
  },
  {
   "cell_type": "code",
   "execution_count": null,
   "metadata": {},
   "outputs": [],
   "source": []
  }
 ],
 "metadata": {
  "kernelspec": {
   "display_name": "venv",
   "language": "python",
   "name": "python3"
  },
  "language_info": {
   "codemirror_mode": {
    "name": "ipython",
    "version": 3
   },
   "file_extension": ".py",
   "mimetype": "text/x-python",
   "name": "python",
   "nbconvert_exporter": "python",
   "pygments_lexer": "ipython3",
   "version": "3.9.5"
  }
 },
 "nbformat": 4,
 "nbformat_minor": 2
}
